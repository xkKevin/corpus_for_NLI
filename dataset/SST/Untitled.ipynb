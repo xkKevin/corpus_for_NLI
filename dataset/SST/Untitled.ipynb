{
 "cells": [
  {
   "cell_type": "code",
   "execution_count": 3,
   "metadata": {},
   "outputs": [
    {
     "name": "stdout",
     "output_type": "stream",
     "text": [
      "end\n",
      "Absorbing character study by Andr脙漏 Turpin .\n",
      "There 's an energy to Y Tu Mam脙隆 Tambi脙漏n .\n",
      "Garc脙颅a Bernal and Talanc脙鲁n are an immensely appealing couple , and even though their story is predictable , you 'll want things to work out .\n",
      "Sch脙录tte 's dramatic snapshot of the artist three days before his death offers an interesting bit of speculation as to the issues Brecht faced as his life drew to a close .\n",
      "A moving and solidly entertaining comedy\\/drama that should bolster director and co-writer Juan Jos脙漏 Campanella 's reputation in the United States .\n",
      "Apart from its own considerable achievement , Metropolis confirms Tezuka 's status as both the primary visual influence on the anim脙漏 tradition and its defining philosophical conscience .\n",
      "B脙漏art and Berling are both superb , while Huppert ... is magnificent .\n",
      "Thanks to The Ch脙垄teau 's balance of whimsicality , narrative discipline and serious improvisation , almost every relationship and personality in the film yields surprises .\n",
      "A jaw-droppingly beautiful work that upends nearly every clich脙漏 of Japanese animation while delivering a more than satisfactory amount of carnage .\n",
      "Parts seem like they were lifted from Terry Gilliam 's subconscious , pressed through Kafka 's meat grinder and into Bu脙卤uel 's casings\n",
      "Lead actress Ga脙炉 , she of the impossibly long limbs and sweetly conspiratorial smile , is a towering siren .\n",
      "The fluid motion is astounding on any number of levels -- including the physical demands made on B脙录ttner -- and it implies in its wake the intractable , irreversible flow of history .\n",
      "While Guzm脙隆n frustratingly refuses to give Pinochet 's crimes a political context , his distance from the material is mostly admirable .\n",
      "A fascinating glimpse into an insular world that gives the lie to many clich脙漏s and showcases a group of dedicated artists .\n",
      "With elements cribbed from Lang 's Metropolis , Welles ' Kane , and Eisenstein 's Potemkin , the true wonder of Rintar脙麓 's Metropolis is the number of lasting images all its own .\n",
      "A coming-of-age film that avoids the cartoonish clich脙漏s and sneering humor of the genre as it provides a fresh view of an old type -- the uncertain girl on the brink of womanhood .\n",
      "Heartwarming here relies less on forced air than on Petter N脙娄ss ' delicate , clever direction ... and a wonderful , imaginative script by Axel Hellstenius .\n",
      "For 95 often hilarious minutes , ( Cho ) riffs on the diciness of colonics , on straight versus gay personal ads , on how men would act if they had periods , and on the perils of a certain outr脙漏 sexual practice .\n",
      "An elegant film with often surprising twists and an intermingling of naivet脙漏 and sophistication .\n",
      "... somehow manages to escape the shackles of its own clich脙漏s to be the best espionage picture to come out in weeks .\n",
      "Famuyiwa 's feature deals with its subject matter in a tasteful , intelligent manner , rather than forcing us to endure every plot contrivance that the clich脙漏-riddled genre can offer .\n",
      "Bon app脙漏tit !\n",
      "Like the best 60 Minutes expos脙漏 , the film ( at 80 minutes ) is actually quite entertaining .\n",
      "Like Mike is a harmlessly na脙炉ve slice of b-ball fantasy , fit for filling in during the real NBA 's off-season .\n",
      "An enjoyable comedy of lingual and cultural differences ... The Ch脙垄teau is a film -- full of life and small delights -- that has all the wiggling energy of young kitten .\n",
      "With an obvious rapport with her actors and a striking style behind the camera , H脙漏l脙篓ne Angel is definitely a director to watch .\n",
      "Y Tu Mam脙隆 Tambi脙漏n is hilariously , gloriously alive , and quite often hotter than Georgia asphalt .\n",
      "To some eyes this will seem like a recycling of clich脙漏s , an assassin 's greatest hits .\n",
      "Berling and B脙漏art ... continue to impress , and Isabelle Huppert ... again shows uncanny skill in getting under the skin of her characters .\n",
      "( Cuar脙鲁n has ) created a substantive movie out of several cliched movie structures : the road movie , the coming-of-age movie , and the teenage sex comedy .\n",
      "Veret脙漏 has a whip-smart sense of narrative bluffs .\n",
      "The action clich脙漏s just pile up .\n",
      "Pascale Bailly 's rom-com provides Am脙漏lie 's Audrey Tautou with another fabuleux destin -- i.e. , a banal spiritual quest .\n",
      "The plot is nothing but boilerplate clich脙漏s from start to finish , and the script assumes that not only would subtlety be lost on the target audience , but that it 's also too stupid to realize that they 've already seen this exact same movie a hundred times\n",
      "Gaghan ... has thrown every suspenseful clich脙漏 in the book at this nonsensical story .\n",
      "I 'm sure the filmmakers found this a remarkable and novel concept , but anybody who has ever seen an independent film can report that it is instead a cheap clich脙漏 .\n",
      "A mimetic approximation of better films like Contempt and 8脗聽1\\/2 .\n",
      "Absurdities and clich脙漏s accumulate like lint in a fat man 's navel .\n",
      "Brady achieves the remarkable feat of squandering a topnotch foursome of actors ... by shoving them into every clich脙漏d white-trash situation imaginable .\n",
      "Typical anim脙漏 , with cheapo animation ( like Saturday morning TV in the '60s ) , a complex sword-and-sorcery plot and characters who all have big round eyes and Japanese names .\n",
      "The most repugnant adaptation of a classic text since Roland Joff脙漏 and Demi Moore 's The Scarlet Letter .\n",
      "` The Ch脙垄teau is never quite able to overcome the cultural moat surrounding its ludicrous and contrived plot . '\n",
      "Howard conjures the past via surrealist flourishes so overwrought you 'd swear he just stepped out of a Bu脙卤uel retrospective .\n",
      "The characters are based on stock clich脙漏s , and the attempt to complicate the story only defies credibility .\n",
      "Traffics in the kind of prechewed racial clich脙漏s that have already been through the corporate stand-up-comedy mill .\n",
      "As social expos脙漏 , Skins has its heart in the right place , but that 's not much to hang a soap opera on .\n",
      "The Ch脙垄teau would have been benefited from a sharper , cleaner script before it went in front of the camera .\n",
      "An overstylized , pur脙漏ed m脙漏lange of sex , psychology , drugs and philosophy .\n",
      "A clich脙漏d and shallow cautionary tale about the hard-partying lives of gay men .\n",
      "Buries an interesting storyline about morality and the choices we make underneath such a mountain of clich脙漏s and borrowed images that it might more accurately be titled Mr. Chips off the Old Block .\n",
      "In the real world , an actor this uncharismatically beautiful would have a r脙漏sum脙漏 loaded with credits like `` Girl in Bar # 3 . ''\n",
      "In its own way , Joshua is as blasphemous and nonsensical as a Luis Bu脙卤uel film without the latter 's attendant intelligence , poetry , passion , and genius .\n",
      "Not a stereotype is omitted nor a clich脙漏 left unsaid .\n",
      "First-time director Jo脙拢o Pedro Rodrigues ' unwillingness to define his hero 's background or motivations becomes more and more frustrating as the film goes on .\n",
      "The movie barely makes sense , with its unbelievable na脙炉vet脙漏 and arbitrary flashbacks .\n",
      "Got some good , organic character work , lots of obvious political insights and little room for engaging , imaginative filmmaking in its nearly 2脗聽1\\/2 - hour , dissipated length .\n",
      "With its paint fights , motorized scooter chases and dewy-eyed sentiment , it 's a pretty listless collection of kid-movie clich脙漏s .\n",
      "Her film is like a beautiful food entr脙漏e that is n't heated properly , so that it ends up a bit cold and relatively flavorless .\n",
      "Though Jones and Snipes are enthralling , the movie bogs down in rhetoric and clich脙漏 .\n",
      "Contrived pastiche of caper clich脙漏s .\n",
      "A collage of clich脙漏s and a dim echo of allusions to other films .\n",
      "The film is like sitting in a downtown caf脙漏 , overhearing a bunch of typical late-twenty-somethings natter on about nothing , and desperately wishing you could change tables .\n",
      "It 's mired in a shabby script that piles layer upon layer of Action Man clich脙漏 atop wooden dialogue and a shifting tone that falls far short of the peculiarly moral amorality of ( Woo 's ) best work .\n",
      "Much of the digitally altered footage appears jagged , as if filmed directly from a television monitor , while the extensive use of stock footage quickly becomes a tiresome clich脙漏 .\n",
      "Starts out ballsy and stylish but fails to keep it up and settles into clich脙漏s .\n",
      "Five screenwriters are credited with the clich脙漏-laden screenplay ; it seems as if each watered down the version of the one before .\n",
      "An uninspired preachy and clich脙漏d war film .\n",
      "It jumps around with little logic or continuity , presenting backstage bytes of information that never amount to a satisfying complete picture of this particular , anciently demanding m脙漏tier .\n",
      "Amid the clich脙漏 and foreshadowing , Cage manages a degree of casual realism ... that is routinely dynamited by Blethyn .\n",
      "Gets the look and the period trappings right , but it otherwise drowns in a sea of visual and verbal clich脙漏s .\n",
      "Plays like John Le Carr脙漏 with a couple of burnt-out cylinders .\n",
      "After Collateral Damage , you might imagine that most every aggrieved father clich脙漏 has been unturned .\n",
      "It recycles every clich脙漏 about gays in what is essentially an extended soap opera .\n",
      "The plan to make Enough into ` an inspiring tale of survival wrapped in the heart-pounding suspense of a stylish psychological thriller ' has flopped as surely as a souffl脙漏 gone wrong .\n",
      "After the first 10 minutes , which is worth seeing , the movie sinks into an abyss of clich脙漏s , depression and bad alternative music .\n",
      "How much you are moved by the emotional tumult of ( Fran脙搂ois and Mich脙篓le 's ) relationship depends a lot on how interesting and likable you find them .\n",
      "Rather less than the sum of its underventilated p脙篓re-fils confrontations .\n",
      "Here , alas , it collapses like an overcooked souffl脙漏 .\n",
      "For all of its insights into the dream world of teen life , and its electronic expression through cyber culture , the film gives no quarter to anyone seeking to pull a cohesive story out of its 2脗聽1\\/2 - hour running time .\n",
      "Stale and clich脙漏d to a fault .\n",
      "The movie 's messages are quite admirable , but the story is just too clich脙漏d and too often strains credulity .\n",
      "Sheridan seems terrified of the book 's irreverent energy , and scotches most of its 脙漏lan , humor , bile , and irony .\n",
      "Ultimately , the film never recovers from the clumsy clich脙漏 of the ugly American abroad , and the too-frosty exterior Ms. Paltrow employs to authenticate her British persona is another liability .\n",
      "The threat implied in the title Pok脙漏mon 4ever is terrifying -- like locusts in a horde these things will keep coming .\n",
      "Marinated in clich脙漏s and mawkish dialogue .\n",
      "It appears to have been modeled on the worst revenge-of-the-nerds clich脙漏s the filmmakers could dredge up .\n",
      "If Hill is n't quite his generation 's Don Siegel ( or Robert Aldrich ) , it 's because there 's no discernible feeling beneath the chest hair ; it 's all bluster and clich脙漏 .\n",
      "This off-putting French romantic comedy is sure to test severely the indulgence of fans of Am脙漏lie .\n",
      "Rather than real figures , Elling and Kjell Bjarne become symbolic characters whose actions are supposed to relate something about the na脙炉f 's encounter with the world .\n",
      "Touch脙漏 !\n",
      "end3d1\n"
     ]
    },
    {
     "name": "stdout",
     "output_type": "stream",
     "text": [
      "But in Imax 3-D , the clich脙漏s disappear into the vertiginous perspectives opened up by the photography .\n",
      "Jir脙颅 Hubac 's script is a gem .\n",
      "M脙录nch 's genuine insight makes the film 's occasional overindulgence forgivable .\n",
      "As a randy film about sexy people in gorgeous places being pushed and pulled ( literally and figuratively ) by desire ... ( Sex and Luc脙颅a ) makes for an arousing good time .\n",
      "Complex , affecting and uniquely Almod脙鲁var , the film evokes strong emotions and pushes viewers to question their deepest notions of moral right and wrong .\n",
      "Occasionally funny , always very colorful and enjoyably overblown in the traditional Almod脙鲁var style .\n",
      "Nair stuffs the film with dancing , henna , ornamentation , and group song , but her narrative clich脙漏s and telegraphed episodes smell of old soap opera .\n",
      "So clich脙漏d that , at one point , they literally upset an apple cart .\n",
      "A gob of drivel so sickly sweet , even the eager consumers of Moore 's pasteurized ditties will retch it up like rancid cr脙篓me br脙禄l脙漏e .\n",
      "Birot 's directorial debut ( she co-wrote the script with Christophe Honor脙漏 ) is n't so much bad as it is bland .\n",
      "end3d1\n",
      "( N脙娄s ) directed the stage version of Elling , and gets fine performances from his two leads who originated the characters on stage .\n",
      "Audrey Tatou has a knack for picking roles that magnify her outrageous charm , and in this literate French comedy , she 's as morning-glory exuberant as she was in Am脙漏lie .\n",
      "Vera 's three actors -- Moll脙聽 , Gil and Bardem -- excel in insightful , empathetic performances .\n",
      "Displaying about equal amounts of naivet脙漏 , passion and talent , Beneath Clouds establishes Sen as a filmmaker of considerable potential .\n",
      "Without non-stop techno or the existential overtones of a Kieslowski morality tale , Maelstr脙露m is just another Winter Sleepers .\n",
      "There 's just no currency in deriding James Bond for being a clich脙漏d , doddering , misogynistic boy 's club .\n",
      "How do you spell clich脙漏 ?\n",
      "end3d1\n"
     ]
    }
   ],
   "source": [
    "# Copyright 2018 lww. All Rights Reserved.\n",
    "# coding: utf-8\n",
    "from __future__ import print_function\n",
    "from __future__ import division\n",
    "from __future__ import absolute_import\n",
    " \n",
    "def delblankline(infile1, infile2, trainfile, validfile, testfile):\n",
    "    with open(infile1, 'r') as info1, open(infile2, 'r') as info2, \\\n",
    "            open(trainfile, 'w') as train, open(validfile, 'w') as valid, open(testfile, 'w') as test:\n",
    "        lines1 = info1.readlines()\n",
    "        lines2 = info2.readlines()\n",
    "        for i in range(1, len(lines1)):\n",
    "            t1 = lines1[i].replace(\"-LRB-\", \"(\")\n",
    "            t2 = t1.replace(\"-RRB-\", \")\")\n",
    "            k = lines2[i].strip().split(\",\")\n",
    "            t = t2.strip().split('\\t')\n",
    "            if k[1] == '1':\n",
    "                train.writelines(t[1])\n",
    "                train.writelines(\"\\n\")\n",
    "            elif k[1] == '2':\n",
    "                test.writelines(t[1])\n",
    "                test.writelines(\"\\n\")\n",
    "            elif k[1] == '3':\n",
    "                valid.writelines(t[1])\n",
    "                valid.writelines(\"\\n\")\n",
    "        print(\"end\")\n",
    " \n",
    "def tag_sentiment(infile,infile0, infile1, infile2):\n",
    "    # (\"sentiment_labels.txt\", \"dictionary.txt\", \"train.txt\",\"train_final.txt\")\n",
    "    with open(infile, 'r') as info, open(infile0, 'r') as info0, open(infile1, 'r') as info1, \\\n",
    "        open(infile2, 'w') as info2:\n",
    "        lines = info.readlines()\n",
    "        lines0 = info0.readlines()\n",
    "        lines1 = info1.readlines()\n",
    "        \n",
    "        text2id = {}\n",
    "        for i in range(0, len(lines0)):\n",
    "            s = lines0[i].strip().split(\"|\")\n",
    "            text2id[s[0]] = s[1]\n",
    " \n",
    "        id2sentiment = {}\n",
    "        for i in range(0, len(lines)):\n",
    "            s = lines[i].strip().split(\"|\")\n",
    "            id2sentiment[s[0]] = s[1]\n",
    "        \n",
    "        for line in lines1:\n",
    "            if line.strip() not in text2id:\n",
    "                print(line.strip())\n",
    "                # 由于特殊字符不匹配造成\n",
    "                continue\n",
    "            else:\n",
    "                text_id = text2id[line.strip()]\n",
    "            sentiment_score = id2sentiment[text_id]\n",
    "            # info2.write(line.strip() + \"\\n\" + str(sentiment_score) + \"\\n\")\n",
    "            # info2.write(str(sentiment_score) + \" \" + line.strip().lower() + \"\\n\")\n",
    "            info2.write(\"%s %s\\n\" % (sentiment_score, line.strip().lower()))\n",
    "        print(\"end3d1\")\n",
    " \n",
    " \n",
    "delblankline(\"datasetSentences.txt\", \"datasetSplit.txt\", \"train.txt\", \"dev.txt\", \"test.txt\")\n",
    "# 获取原始的训练集，测试集，验证集\n",
    "# train有8544条，dev有1101条，test有 2210条\n",
    "tag_sentiment(\"sentiment_labels.txt\", \"dictionary.txt\", \"train.txt\",\"train_final2.txt\")\n",
    "tag_sentiment(\"sentiment_labels.txt\", \"dictionary.txt\", \"test.txt\",\"test_final2.txt\")\n",
    "tag_sentiment(\"sentiment_labels.txt\", \"dictionary.txt\", \"dev.txt\",\"dev_final2.txt\")\n",
    "# 获取训练集，测试集，验证集句子对应的情感值\n",
    "# 由于文本里面的特殊字符造成的不匹配，训练集，测试集，验证集会相对于上一步少几条"
   ]
  },
  {
   "cell_type": "code",
   "execution_count": 17,
   "metadata": {},
   "outputs": [],
   "source": [
    "def score_to_category(score):\n",
    "    # [0, 0.2], (0.2, 0.4], (0.4, 0.6], (0.6, 0.8], (0.8, 1.0]\n",
    "    score = float(score)\n",
    "    if score <= 0.2:\n",
    "        return 0\n",
    "    if score <= 0.4:\n",
    "        return 1\n",
    "    if score <= 0.6:\n",
    "        return 2\n",
    "    if score <= 0.8:\n",
    "        return 3\n",
    "    return 4\n",
    "\n",
    "def tag_sentiment2(infile,infile0, infile1):\n",
    "    # (\"sentiment_labels.txt\", \"dictionary.txt\", \"train.txt\",\"train_final.txt\")\n",
    "    data = []\n",
    "    with open(infile, 'r') as info, open(infile0, 'r') as info0, open(infile1, 'r') as info1:\n",
    "        lines = info.readlines()\n",
    "        lines0 = info0.readlines()\n",
    "        lines1 = info1.readlines()\n",
    "        \n",
    "        text2id = {}\n",
    "        for i in range(0, len(lines0)):\n",
    "            s = lines0[i].strip().split(\"|\")\n",
    "            text2id[s[0]] = s[1]\n",
    " \n",
    "        id2sentiment = {}\n",
    "        for i in range(0, len(lines)):\n",
    "            s = lines[i].strip().split(\"|\")\n",
    "            id2sentiment[s[0]] = s[1]\n",
    "        \n",
    "        for line in lines1:\n",
    "            if line.strip() not in text2id:\n",
    "                print(line.strip())\n",
    "                # 由于特殊字符不匹配造成\n",
    "                continue\n",
    "            else:\n",
    "                text_id = text2id[line.strip()]\n",
    "            sentiment_score = id2sentiment[text_id]\n",
    "            \n",
    "            data.append(\"%s %s\" % (score_to_category(sentiment_score), line.strip().lower()))\n",
    "        print(\"end3d1\")\n",
    "    return data"
   ]
  },
  {
   "cell_type": "code",
   "execution_count": 18,
   "metadata": {},
   "outputs": [
    {
     "name": "stdout",
     "output_type": "stream",
     "text": [
      "Absorbing character study by Andr脙漏 Turpin .\n",
      "There 's an energy to Y Tu Mam脙隆 Tambi脙漏n .\n",
      "Garc脙颅a Bernal and Talanc脙鲁n are an immensely appealing couple , and even though their story is predictable , you 'll want things to work out .\n",
      "Sch脙录tte 's dramatic snapshot of the artist three days before his death offers an interesting bit of speculation as to the issues Brecht faced as his life drew to a close .\n",
      "A moving and solidly entertaining comedy\\/drama that should bolster director and co-writer Juan Jos脙漏 Campanella 's reputation in the United States .\n",
      "Apart from its own considerable achievement , Metropolis confirms Tezuka 's status as both the primary visual influence on the anim脙漏 tradition and its defining philosophical conscience .\n",
      "B脙漏art and Berling are both superb , while Huppert ... is magnificent .\n",
      "Thanks to The Ch脙垄teau 's balance of whimsicality , narrative discipline and serious improvisation , almost every relationship and personality in the film yields surprises .\n",
      "A jaw-droppingly beautiful work that upends nearly every clich脙漏 of Japanese animation while delivering a more than satisfactory amount of carnage .\n",
      "Parts seem like they were lifted from Terry Gilliam 's subconscious , pressed through Kafka 's meat grinder and into Bu脙卤uel 's casings\n",
      "Lead actress Ga脙炉 , she of the impossibly long limbs and sweetly conspiratorial smile , is a towering siren .\n",
      "The fluid motion is astounding on any number of levels -- including the physical demands made on B脙录ttner -- and it implies in its wake the intractable , irreversible flow of history .\n",
      "While Guzm脙隆n frustratingly refuses to give Pinochet 's crimes a political context , his distance from the material is mostly admirable .\n",
      "A fascinating glimpse into an insular world that gives the lie to many clich脙漏s and showcases a group of dedicated artists .\n",
      "With elements cribbed from Lang 's Metropolis , Welles ' Kane , and Eisenstein 's Potemkin , the true wonder of Rintar脙麓 's Metropolis is the number of lasting images all its own .\n",
      "A coming-of-age film that avoids the cartoonish clich脙漏s and sneering humor of the genre as it provides a fresh view of an old type -- the uncertain girl on the brink of womanhood .\n",
      "Heartwarming here relies less on forced air than on Petter N脙娄ss ' delicate , clever direction ... and a wonderful , imaginative script by Axel Hellstenius .\n",
      "For 95 often hilarious minutes , ( Cho ) riffs on the diciness of colonics , on straight versus gay personal ads , on how men would act if they had periods , and on the perils of a certain outr脙漏 sexual practice .\n",
      "An elegant film with often surprising twists and an intermingling of naivet脙漏 and sophistication .\n",
      "... somehow manages to escape the shackles of its own clich脙漏s to be the best espionage picture to come out in weeks .\n",
      "Famuyiwa 's feature deals with its subject matter in a tasteful , intelligent manner , rather than forcing us to endure every plot contrivance that the clich脙漏-riddled genre can offer .\n",
      "Bon app脙漏tit !\n",
      "Like the best 60 Minutes expos脙漏 , the film ( at 80 minutes ) is actually quite entertaining .\n",
      "Like Mike is a harmlessly na脙炉ve slice of b-ball fantasy , fit for filling in during the real NBA 's off-season .\n",
      "An enjoyable comedy of lingual and cultural differences ... The Ch脙垄teau is a film -- full of life and small delights -- that has all the wiggling energy of young kitten .\n",
      "With an obvious rapport with her actors and a striking style behind the camera , H脙漏l脙篓ne Angel is definitely a director to watch .\n",
      "Y Tu Mam脙隆 Tambi脙漏n is hilariously , gloriously alive , and quite often hotter than Georgia asphalt .\n",
      "To some eyes this will seem like a recycling of clich脙漏s , an assassin 's greatest hits .\n",
      "Berling and B脙漏art ... continue to impress , and Isabelle Huppert ... again shows uncanny skill in getting under the skin of her characters .\n",
      "( Cuar脙鲁n has ) created a substantive movie out of several cliched movie structures : the road movie , the coming-of-age movie , and the teenage sex comedy .\n",
      "Veret脙漏 has a whip-smart sense of narrative bluffs .\n",
      "The action clich脙漏s just pile up .\n",
      "Pascale Bailly 's rom-com provides Am脙漏lie 's Audrey Tautou with another fabuleux destin -- i.e. , a banal spiritual quest .\n",
      "The plot is nothing but boilerplate clich脙漏s from start to finish , and the script assumes that not only would subtlety be lost on the target audience , but that it 's also too stupid to realize that they 've already seen this exact same movie a hundred times\n",
      "Gaghan ... has thrown every suspenseful clich脙漏 in the book at this nonsensical story .\n",
      "I 'm sure the filmmakers found this a remarkable and novel concept , but anybody who has ever seen an independent film can report that it is instead a cheap clich脙漏 .\n",
      "A mimetic approximation of better films like Contempt and 8脗聽1\\/2 .\n",
      "Absurdities and clich脙漏s accumulate like lint in a fat man 's navel .\n",
      "Brady achieves the remarkable feat of squandering a topnotch foursome of actors ... by shoving them into every clich脙漏d white-trash situation imaginable .\n",
      "Typical anim脙漏 , with cheapo animation ( like Saturday morning TV in the '60s ) , a complex sword-and-sorcery plot and characters who all have big round eyes and Japanese names .\n",
      "The most repugnant adaptation of a classic text since Roland Joff脙漏 and Demi Moore 's The Scarlet Letter .\n",
      "` The Ch脙垄teau is never quite able to overcome the cultural moat surrounding its ludicrous and contrived plot . '\n",
      "Howard conjures the past via surrealist flourishes so overwrought you 'd swear he just stepped out of a Bu脙卤uel retrospective .\n",
      "The characters are based on stock clich脙漏s , and the attempt to complicate the story only defies credibility .\n",
      "Traffics in the kind of prechewed racial clich脙漏s that have already been through the corporate stand-up-comedy mill .\n",
      "As social expos脙漏 , Skins has its heart in the right place , but that 's not much to hang a soap opera on .\n",
      "The Ch脙垄teau would have been benefited from a sharper , cleaner script before it went in front of the camera .\n",
      "An overstylized , pur脙漏ed m脙漏lange of sex , psychology , drugs and philosophy .\n",
      "A clich脙漏d and shallow cautionary tale about the hard-partying lives of gay men .\n",
      "Buries an interesting storyline about morality and the choices we make underneath such a mountain of clich脙漏s and borrowed images that it might more accurately be titled Mr. Chips off the Old Block .\n",
      "In the real world , an actor this uncharismatically beautiful would have a r脙漏sum脙漏 loaded with credits like `` Girl in Bar # 3 . ''\n",
      "In its own way , Joshua is as blasphemous and nonsensical as a Luis Bu脙卤uel film without the latter 's attendant intelligence , poetry , passion , and genius .\n",
      "Not a stereotype is omitted nor a clich脙漏 left unsaid .\n",
      "First-time director Jo脙拢o Pedro Rodrigues ' unwillingness to define his hero 's background or motivations becomes more and more frustrating as the film goes on .\n",
      "The movie barely makes sense , with its unbelievable na脙炉vet脙漏 and arbitrary flashbacks .\n",
      "Got some good , organic character work , lots of obvious political insights and little room for engaging , imaginative filmmaking in its nearly 2脗聽1\\/2 - hour , dissipated length .\n",
      "With its paint fights , motorized scooter chases and dewy-eyed sentiment , it 's a pretty listless collection of kid-movie clich脙漏s .\n",
      "Her film is like a beautiful food entr脙漏e that is n't heated properly , so that it ends up a bit cold and relatively flavorless .\n",
      "Though Jones and Snipes are enthralling , the movie bogs down in rhetoric and clich脙漏 .\n",
      "Contrived pastiche of caper clich脙漏s .\n",
      "A collage of clich脙漏s and a dim echo of allusions to other films .\n",
      "The film is like sitting in a downtown caf脙漏 , overhearing a bunch of typical late-twenty-somethings natter on about nothing , and desperately wishing you could change tables .\n",
      "It 's mired in a shabby script that piles layer upon layer of Action Man clich脙漏 atop wooden dialogue and a shifting tone that falls far short of the peculiarly moral amorality of ( Woo 's ) best work .\n",
      "Much of the digitally altered footage appears jagged , as if filmed directly from a television monitor , while the extensive use of stock footage quickly becomes a tiresome clich脙漏 .\n",
      "Starts out ballsy and stylish but fails to keep it up and settles into clich脙漏s .\n",
      "Five screenwriters are credited with the clich脙漏-laden screenplay ; it seems as if each watered down the version of the one before .\n",
      "An uninspired preachy and clich脙漏d war film .\n",
      "It jumps around with little logic or continuity , presenting backstage bytes of information that never amount to a satisfying complete picture of this particular , anciently demanding m脙漏tier .\n",
      "Amid the clich脙漏 and foreshadowing , Cage manages a degree of casual realism ... that is routinely dynamited by Blethyn .\n",
      "Gets the look and the period trappings right , but it otherwise drowns in a sea of visual and verbal clich脙漏s .\n",
      "Plays like John Le Carr脙漏 with a couple of burnt-out cylinders .\n",
      "After Collateral Damage , you might imagine that most every aggrieved father clich脙漏 has been unturned .\n",
      "It recycles every clich脙漏 about gays in what is essentially an extended soap opera .\n",
      "The plan to make Enough into ` an inspiring tale of survival wrapped in the heart-pounding suspense of a stylish psychological thriller ' has flopped as surely as a souffl脙漏 gone wrong .\n",
      "After the first 10 minutes , which is worth seeing , the movie sinks into an abyss of clich脙漏s , depression and bad alternative music .\n",
      "How much you are moved by the emotional tumult of ( Fran脙搂ois and Mich脙篓le 's ) relationship depends a lot on how interesting and likable you find them .\n",
      "Rather less than the sum of its underventilated p脙篓re-fils confrontations .\n",
      "Here , alas , it collapses like an overcooked souffl脙漏 .\n",
      "For all of its insights into the dream world of teen life , and its electronic expression through cyber culture , the film gives no quarter to anyone seeking to pull a cohesive story out of its 2脗聽1\\/2 - hour running time .\n",
      "Stale and clich脙漏d to a fault .\n",
      "The movie 's messages are quite admirable , but the story is just too clich脙漏d and too often strains credulity .\n",
      "Sheridan seems terrified of the book 's irreverent energy , and scotches most of its 脙漏lan , humor , bile , and irony .\n",
      "Ultimately , the film never recovers from the clumsy clich脙漏 of the ugly American abroad , and the too-frosty exterior Ms. Paltrow employs to authenticate her British persona is another liability .\n",
      "The threat implied in the title Pok脙漏mon 4ever is terrifying -- like locusts in a horde these things will keep coming .\n",
      "Marinated in clich脙漏s and mawkish dialogue .\n",
      "It appears to have been modeled on the worst revenge-of-the-nerds clich脙漏s the filmmakers could dredge up .\n",
      "If Hill is n't quite his generation 's Don Siegel ( or Robert Aldrich ) , it 's because there 's no discernible feeling beneath the chest hair ; it 's all bluster and clich脙漏 .\n",
      "This off-putting French romantic comedy is sure to test severely the indulgence of fans of Am脙漏lie .\n",
      "Rather than real figures , Elling and Kjell Bjarne become symbolic characters whose actions are supposed to relate something about the na脙炉f 's encounter with the world .\n",
      "Touch脙漏 !\n",
      "end3d1\n"
     ]
    },
    {
     "name": "stdout",
     "output_type": "stream",
     "text": [
      "But in Imax 3-D , the clich脙漏s disappear into the vertiginous perspectives opened up by the photography .\n",
      "Jir脙颅 Hubac 's script is a gem .\n",
      "M脙录nch 's genuine insight makes the film 's occasional overindulgence forgivable .\n",
      "As a randy film about sexy people in gorgeous places being pushed and pulled ( literally and figuratively ) by desire ... ( Sex and Luc脙颅a ) makes for an arousing good time .\n",
      "Complex , affecting and uniquely Almod脙鲁var , the film evokes strong emotions and pushes viewers to question their deepest notions of moral right and wrong .\n",
      "Occasionally funny , always very colorful and enjoyably overblown in the traditional Almod脙鲁var style .\n",
      "Nair stuffs the film with dancing , henna , ornamentation , and group song , but her narrative clich脙漏s and telegraphed episodes smell of old soap opera .\n",
      "So clich脙漏d that , at one point , they literally upset an apple cart .\n",
      "A gob of drivel so sickly sweet , even the eager consumers of Moore 's pasteurized ditties will retch it up like rancid cr脙篓me br脙禄l脙漏e .\n",
      "Birot 's directorial debut ( she co-wrote the script with Christophe Honor脙漏 ) is n't so much bad as it is bland .\n",
      "end3d1\n",
      "( N脙娄s ) directed the stage version of Elling , and gets fine performances from his two leads who originated the characters on stage .\n",
      "Audrey Tatou has a knack for picking roles that magnify her outrageous charm , and in this literate French comedy , she 's as morning-glory exuberant as she was in Am脙漏lie .\n",
      "Vera 's three actors -- Moll脙聽 , Gil and Bardem -- excel in insightful , empathetic performances .\n",
      "Displaying about equal amounts of naivet脙漏 , passion and talent , Beneath Clouds establishes Sen as a filmmaker of considerable potential .\n",
      "Without non-stop techno or the existential overtones of a Kieslowski morality tale , Maelstr脙露m is just another Winter Sleepers .\n",
      "There 's just no currency in deriding James Bond for being a clich脙漏d , doddering , misogynistic boy 's club .\n",
      "How do you spell clich脙漏 ?\n",
      "end3d1\n"
     ]
    }
   ],
   "source": [
    "train = tag_sentiment2(\"sentiment_labels.txt\", \"dictionary.txt\", \"train.txt\")\n",
    "test = tag_sentiment2(\"sentiment_labels.txt\", \"dictionary.txt\", \"test.txt\")\n",
    "dev = tag_sentiment2(\"sentiment_labels.txt\", \"dictionary.txt\", \"dev.txt\")"
   ]
  },
  {
   "cell_type": "code",
   "execution_count": 19,
   "metadata": {},
   "outputs": [],
   "source": [
    "train.extend(dev)\n",
    "train.extend(test)"
   ]
  },
  {
   "cell_type": "code",
   "execution_count": 21,
   "metadata": {},
   "outputs": [
    {
     "data": {
      "text/plain": [
       "11748"
      ]
     },
     "execution_count": 21,
     "metadata": {},
     "output_type": "execute_result"
    }
   ],
   "source": [
    "len(train)"
   ]
  },
  {
   "cell_type": "code",
   "execution_count": 20,
   "metadata": {},
   "outputs": [],
   "source": [
    "with open(\"SST.txt\", \"w\", encoding=\"utf-8\") as fp:\n",
    "    fp.write(\"\\n\".join(train))"
   ]
  },
  {
   "cell_type": "code",
   "execution_count": 22,
   "metadata": {},
   "outputs": [
    {
     "data": {
      "text/plain": [
       "['very negative', 'negative', 'neutral', 'positive', 'very positive']"
      ]
     },
     "execution_count": 22,
     "metadata": {},
     "output_type": "execute_result"
    }
   ],
   "source": [
    "\"very negative, negative, neutral, positive, very positive\".split(\", \")"
   ]
  },
  {
   "cell_type": "code",
   "execution_count": null,
   "metadata": {},
   "outputs": [],
   "source": [
    "y_eval = []"
   ]
  },
  {
   "cell_type": "markdown",
   "metadata": {},
   "source": [
    "### 统计三个数据集的平均长度"
   ]
  },
  {
   "cell_type": "code",
   "execution_count": 5,
   "metadata": {},
   "outputs": [],
   "source": [
    "import numpy as np"
   ]
  },
  {
   "cell_type": "code",
   "execution_count": 14,
   "metadata": {},
   "outputs": [],
   "source": [
    "sst_data = []\n",
    "with open(\"SST.txt\", \"r\", encoding=\"utf-8\") as fp:\n",
    "    for line in fp.readlines():\n",
    "        word = line.strip().split()\n",
    "        sst_data.append(len(word)-1)"
   ]
  },
  {
   "cell_type": "code",
   "execution_count": 15,
   "metadata": {},
   "outputs": [
    {
     "data": {
      "text/plain": [
       "[36, 37, 39]"
      ]
     },
     "execution_count": 15,
     "metadata": {},
     "output_type": "execute_result"
    }
   ],
   "source": [
    "sst_data[:3]"
   ]
  },
  {
   "cell_type": "code",
   "execution_count": 16,
   "metadata": {},
   "outputs": [
    {
     "data": {
      "text/plain": [
       "(11748, 19.145386448757236)"
      ]
     },
     "execution_count": 16,
     "metadata": {},
     "output_type": "execute_result"
    }
   ],
   "source": [
    "len(sst_data),np.mean(sst_data)"
   ]
  },
  {
   "cell_type": "code",
   "execution_count": 7,
   "metadata": {},
   "outputs": [],
   "source": [
    "trec1 = r\"D:\\lab_data\\之江lab\\实验模型\\TREC\\train_5500.label.txt\"\n",
    "trec2 = r\"D:\\lab_data\\之江lab\\实验模型\\TREC\\TREC_10.label.txt\"\n",
    "\n",
    "trec_data = []\n",
    "with open(trec1, 'r', encoding='utf-8') as f1, open(trec2, 'r', encoding='utf-8') as f2:\n",
    "    for line in f1.readlines():\n",
    "        word = line.strip().split()\n",
    "        trec_data.append(len(word)-1)\n",
    "    for line in f2.readlines():\n",
    "        word = line.strip().split()\n",
    "        trec_data.append(len(word)-1)"
   ]
  },
  {
   "cell_type": "code",
   "execution_count": 10,
   "metadata": {},
   "outputs": [
    {
     "data": {
      "text/plain": [
       "[10, 8, 12]"
      ]
     },
     "execution_count": 10,
     "metadata": {},
     "output_type": "execute_result"
    }
   ],
   "source": [
    "trec_data[:3]"
   ]
  },
  {
   "cell_type": "code",
   "execution_count": 9,
   "metadata": {},
   "outputs": [
    {
     "data": {
      "text/plain": [
       "(5952, 9.978662634408602)"
      ]
     },
     "execution_count": 9,
     "metadata": {},
     "output_type": "execute_result"
    }
   ],
   "source": [
    "len(trec_data),np.mean(trec_data)"
   ]
  },
  {
   "cell_type": "code",
   "execution_count": 2,
   "metadata": {},
   "outputs": [],
   "source": [
    "corpus_5_data = []\n",
    "with open(r\"D:\\lab_data\\ML_NN_DL\\corpus\\corpus最终版\\corpus_5.txt\", \"r\", encoding=\"utf-8\") as fp:\n",
    "    for line in fp.readlines():\n",
    "        word = line.strip().split()\n",
    "        if word[0].split(':')[2] == '1':\n",
    "            corpus_5_data.append(len(word)-1)"
   ]
  },
  {
   "cell_type": "code",
   "execution_count": 3,
   "metadata": {},
   "outputs": [
    {
     "data": {
      "text/plain": [
       "[11, 6, 9]"
      ]
     },
     "execution_count": 3,
     "metadata": {},
     "output_type": "execute_result"
    }
   ],
   "source": [
    "corpus_5_data[:3]"
   ]
  },
  {
   "cell_type": "code",
   "execution_count": 8,
   "metadata": {},
   "outputs": [
    {
     "data": {
      "text/plain": [
       "(920, 11.88695652173913, 4, 35, 3.944760349565097)"
      ]
     },
     "execution_count": 8,
     "metadata": {},
     "output_type": "execute_result"
    }
   ],
   "source": [
    "len(corpus_5_data),np.mean(corpus_5_data),np.min(corpus_5_data),np.max(corpus_5_data),np.std(corpus_5_data)"
   ]
  }
 ],
 "metadata": {
  "kernelspec": {
   "display_name": "Python 3",
   "language": "python",
   "name": "python3"
  },
  "language_info": {
   "codemirror_mode": {
    "name": "ipython",
    "version": 3
   },
   "file_extension": ".py",
   "mimetype": "text/x-python",
   "name": "python",
   "nbconvert_exporter": "python",
   "pygments_lexer": "ipython3",
   "version": "3.7.1"
  }
 },
 "nbformat": 4,
 "nbformat_minor": 2
}
