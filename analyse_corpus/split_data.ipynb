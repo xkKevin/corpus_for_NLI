{
 "cells": [
  {
   "cell_type": "code",
   "execution_count": 1,
   "metadata": {},
   "outputs": [],
   "source": [
    "import numpy as np\n",
    "from sklearn.model_selection import KFold\n",
    "import json"
   ]
  },
  {
   "cell_type": "code",
   "execution_count": 11,
   "metadata": {},
   "outputs": [
    {
     "name": "stdout",
     "output_type": "stream",
     "text": [
      "[3 4 5 6 7 8] [0 1 2]\n",
      "[0 1 2 6 7 8] [3 4 5]\n",
      "[0 1 2 3 4 5] [6 7 8]\n"
     ]
    }
   ],
   "source": [
    "X = [\"a\", \"b\", \"c\", \"d\", \"x\", \"y\",\"2\",\"ds\",\"s\"]\n",
    "kf = KFold(n_splits=3)\n",
    "for train, test in kf.split(X):\n",
    "    print(\"%s %s\" % (train, test))"
   ]
  },
  {
   "cell_type": "code",
   "execution_count": null,
   "metadata": {},
   "outputs": [],
   "source": []
  },
  {
   "cell_type": "raw",
   "metadata": {},
   "source": [
    "1. randomly split\n",
    "2. 同一个expert说的话，不能同时存在于training and testing\n",
    "3. 同一个bundle的句子（1句expert+所有相关的worker句子），不能同时存在于training and testing\n",
    "4. 根据同一个dataset生成的句子，不能同时存在于training and testing"
   ]
  },
  {
   "cell_type": "code",
   "execution_count": 6,
   "metadata": {},
   "outputs": [],
   "source": [
    "def random_split():\n",
    "    tasks_sentences = []\n",
    "    with open(\"corpus最终版\\corpus_5.txt\", \"r\", encoding='utf-8') as fp:\n",
    "        for line in fp.readlines():\n",
    "            lsp = line.split()\n",
    "            sentence = \" \".join(lsp[1:])\n",
    "            tasks_sentences.append(sentence)\n",
    "            \n",
    "\n",
    "def expert_split():\n",
    "    tasks_sentences = [[] for i in range(20)]\n",
    "    with open(\"corpus最终版\\corpus_5.txt\", \"r\", encoding='utf-8') as fp:\n",
    "        for line in fp.readlines():\n",
    "            lsp = line.split()\n",
    "            info = lsp[0]\n",
    "            sentence = \" \".join(lsp[1:])\n",
    "            index = int(info.split(\":\")[4]) - 1\n",
    "            tasks_sentences[index].append(sentence)\n",
    "            \n",
    "            \n",
    "def bundle_split():\n",
    "    tasks_sentences = [[] for i in range(920)]\n",
    "    with open(\"corpus最终版\\corpus_5.txt\", \"r\", encoding='utf-8') as fp:\n",
    "        for line in fp.readlines():\n",
    "            lsp = line.split()\n",
    "            info = lsp[0]\n",
    "            sentence = \" \".join(lsp[1:])\n",
    "            index = int(info.split(\":\")[1]) - 1\n",
    "            tasks_sentences[index].append(sentence)\n",
    "            \n",
    "            \n",
    "def table_split():\n",
    "    tasks_sentences = [[] for i in range(37)]\n",
    "    with open(\"corpus最终版\\corpus_5.txt\", \"r\", encoding='utf-8') as fp:\n",
    "        for line in fp.readlines():\n",
    "            lsp = line.split()\n",
    "            info = lsp[0]\n",
    "            sentence = \" \".join(lsp[1:])\n",
    "            index = int(info.split(\":\")[3]) - 1\n",
    "            tasks_sentences[index].append(sentence)"
   ]
  },
  {
   "cell_type": "code",
   "execution_count": 7,
   "metadata": {},
   "outputs": [
    {
     "data": {
      "text/plain": [
       "14035"
      ]
     },
     "execution_count": 7,
     "metadata": {},
     "output_type": "execute_result"
    }
   ],
   "source": [
    "tasks_sentences = []\n",
    "with open(\"corpus最终版\\corpus_5.txt\", \"r\", encoding='utf-8') as fp:\n",
    "    for line in fp.readlines():\n",
    "        lsp = line.split()\n",
    "        sentence = \" \".join(lsp[1:])\n",
    "        tasks_sentences.append(sentence)\n",
    "len(tasks_sentences)"
   ]
  },
  {
   "cell_type": "code",
   "execution_count": 26,
   "metadata": {},
   "outputs": [],
   "source": [
    "class tet(object):\n",
    "    def __init__(self):\n",
    "        pass\n",
    "    \n",
    "   \n",
    "        \n",
    "    def prp(self):\n",
    "        print(\"prp\")\n",
    "        tet.sdd()\n",
    "        self.sss()\n",
    "        print(\"aasss\")\n",
    "        \n",
    "    def sdd():\n",
    "        print(\"sdd\")\n",
    "        \n",
    "    \n",
    "    def sss(self):\n",
    "        print(\"sss\")"
   ]
  },
  {
   "cell_type": "code",
   "execution_count": 27,
   "metadata": {},
   "outputs": [
    {
     "name": "stdout",
     "output_type": "stream",
     "text": [
      "prp\n",
      "sdd\n",
      "sss\n",
      "aasss\n"
     ]
    }
   ],
   "source": [
    "ttt = tet()\n",
    "ttt.prp()"
   ]
  },
  {
   "cell_type": "code",
   "execution_count": 28,
   "metadata": {},
   "outputs": [],
   "source": []
  },
  {
   "cell_type": "code",
   "execution_count": 75,
   "metadata": {},
   "outputs": [],
   "source": [
    "a=[[[1,2],[3,5]],[[6,[5,7,8]],[10,1]]]\n"
   ]
  },
  {
   "cell_type": "code",
   "execution_count": 76,
   "metadata": {},
   "outputs": [
    {
     "data": {
      "text/plain": [
       "[[[6, [5, 7, 8]], [10, 1]], [[1, 2], [3, 5]]]"
      ]
     },
     "execution_count": 76,
     "metadata": {},
     "output_type": "execute_result"
    }
   ],
   "source": [
    "np.random.shuffle(a)\n",
    "a"
   ]
  },
  {
   "cell_type": "code",
   "execution_count": 91,
   "metadata": {},
   "outputs": [],
   "source": [
    "a = [[1,2],[3,5]]\n",
    "b = np.array(a)"
   ]
  },
  {
   "cell_type": "code",
   "execution_count": 93,
   "metadata": {},
   "outputs": [],
   "source": [
    "b += np.array([8,10])"
   ]
  },
  {
   "cell_type": "code",
   "execution_count": 94,
   "metadata": {},
   "outputs": [
    {
     "data": {
      "text/plain": [
       "array([[ 9, 12],\n",
       "       [11, 15]])"
      ]
     },
     "execution_count": 94,
     "metadata": {},
     "output_type": "execute_result"
    }
   ],
   "source": [
    "b"
   ]
  },
  {
   "cell_type": "code",
   "execution_count": 89,
   "metadata": {},
   "outputs": [
    {
     "data": {
      "text/plain": [
       "(array([list([1, 2]), list([3, 5, 8])], dtype=object), (2,))"
      ]
     },
     "execution_count": 89,
     "metadata": {},
     "output_type": "execute_result"
    }
   ],
   "source": [
    "b = [[1,2],[3,5,8]]\n",
    "np.asarray(b),np.asarray(b).shape"
   ]
  },
  {
   "cell_type": "code",
   "execution_count": 90,
   "metadata": {},
   "outputs": [
    {
     "data": {
      "text/plain": [
       "[[1, 2], [3, 5, 8]]"
      ]
     },
     "execution_count": 90,
     "metadata": {},
     "output_type": "execute_result"
    }
   ],
   "source": [
    "a"
   ]
  },
  {
   "cell_type": "code",
   "execution_count": 95,
   "metadata": {},
   "outputs": [
    {
     "name": "stdout",
     "output_type": "stream",
     "text": [
      "1\n",
      "train_index [2 3 4 5] test_index [0 1]\n",
      "train_Y [[ 5  6]\n",
      " [ 7  8]\n",
      " [ 9 10]\n",
      " [11 12]]\n",
      "test_Y [[1 2]\n",
      " [3 4]]\n",
      "2\n",
      "train_index [0 1 4 5] test_index [2 3]\n",
      "train_Y [[ 1  2]\n",
      " [ 3  4]\n",
      " [ 9 10]\n",
      " [11 12]]\n",
      "test_Y [[5 6]\n",
      " [7 8]]\n",
      "3\n",
      "train_index [0 1 2 3] test_index [4 5]\n",
      "train_Y [[1 2]\n",
      " [3 4]\n",
      " [5 6]\n",
      " [7 8]]\n",
      "test_Y [[ 9 10]\n",
      " [11 12]]\n"
     ]
    }
   ],
   "source": [
    "Y = np.array([[1, 2], [3, 4], [5, 6], [7, 8],[9,10],[11,12]])\n",
    "#y = np.array([1, 2, 3, 4])\n",
    "i=0\n",
    "kf = KFold(n_splits=3)\n",
    "#3折交叉验证，将数据分为3份，每次取一份作为test集\n",
    "for train_index, test_index in kf.split(Y):\n",
    "    i=i+1\n",
    "    print(i)\n",
    "    print('train_index', train_index, 'test_index', test_index)\n",
    "    #train_index与test_index为下标\n",
    "    train_Y = Y[train_index]\n",
    "    test_Y= Y[test_index]\n",
    "    print(\"train_Y\",train_Y)\n",
    "    print(\"test_Y\",test_Y)"
   ]
  },
  {
   "cell_type": "code",
   "execution_count": 2,
   "metadata": {},
   "outputs": [],
   "source": [
    "a=np.array([[1,2],[2,3]])\n",
    "b=np.array([[5,8],[8,10],[3,7]])\n",
    "c = np.array([[12,7]])\n",
    "d = [a,b,c]"
   ]
  },
  {
   "cell_type": "code",
   "execution_count": 109,
   "metadata": {},
   "outputs": [
    {
     "data": {
      "text/plain": [
       "[array([[1, 2],\n",
       "        [2, 3]]), array([[ 5,  8],\n",
       "        [ 8, 10],\n",
       "        [ 3,  7]]), array([[12,  7]])]"
      ]
     },
     "execution_count": 109,
     "metadata": {},
     "output_type": "execute_result"
    }
   ],
   "source": [
    "d"
   ]
  },
  {
   "cell_type": "code",
   "execution_count": 5,
   "metadata": {},
   "outputs": [
    {
     "name": "stdout",
     "output_type": "stream",
     "text": [
      "0.23, 0.366, 8.3\n"
     ]
    }
   ],
   "source": [
    "a=0.23\n",
    "b=0.366\n",
    "c=8.3\n",
    "print(\"%s, %s, %s\" % (a,b,c))"
   ]
  },
  {
   "cell_type": "code",
   "execution_count": 9,
   "metadata": {},
   "outputs": [],
   "source": [
    "split_info = {\n",
    "    \"random\": False,\n",
    "    \"expert\": [20, 4],\n",
    "    \"bundle\": [920, 1],\n",
    "    \"table\": [37, 3]\n",
    "}"
   ]
  }
 ],
 "metadata": {
  "kernelspec": {
   "display_name": "py36_tf18",
   "language": "python",
   "name": "ts_py36"
  },
  "language_info": {
   "codemirror_mode": {
    "name": "ipython",
    "version": 3
   },
   "file_extension": ".py",
   "mimetype": "text/x-python",
   "name": "python",
   "nbconvert_exporter": "python",
   "pygments_lexer": "ipython3",
   "version": "3.6.0"
  }
 },
 "nbformat": 4,
 "nbformat_minor": 2
}
